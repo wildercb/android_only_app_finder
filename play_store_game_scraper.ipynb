{
 "cells": [
  {
   "cell_type": "code",
   "execution_count": 2,
   "metadata": {},
   "outputs": [
    {
     "name": "stdout",
     "output_type": "stream",
     "text": [
      "Fetching game apps ranked 200-50...\n",
      "Error fetching batch: search() got an unexpected keyword argument 'page'\n",
      "Error fetching batch: search() got an unexpected keyword argument 'page'\n"
     ]
    }
   ],
   "source": [
    "import csv\n",
    "from google_play_scraper import search, app\n",
    "import time\n",
    "\n",
    "def fetch_game_apps(start_rank, end_rank):\n",
    "    apps = []\n",
    "    current_rank = 1\n",
    "    page = 0\n",
    "    \n",
    "    while current_rank <= end_rank:\n",
    "        try:\n",
    "            results = search(\n",
    "                \"game\",\n",
    "                lang=\"en\",\n",
    "                country=\"us\",\n",
    "                n_hits=100,  # Maximum allowed by the library\n",
    "                page=page\n",
    "            )\n",
    "            \n",
    "            if not results:\n",
    "                break\n",
    "            \n",
    "            for result in results:\n",
    "                if current_rank > end_rank:\n",
    "                    break\n",
    "                \n",
    "                if current_rank >= start_rank:\n",
    "                    try:\n",
    "                        app_id = result['appId']\n",
    "                        app_details = app(app_id)\n",
    "                        \n",
    "                        apps.append({\n",
    "                            'rank': current_rank,\n",
    "                            'name': result['title'],\n",
    "                            'developer': result['developer'],\n",
    "                            'data_safety': app_details.get('privacyPolicy', 'Not available')\n",
    "                        })\n",
    "                        \n",
    "                        print(f\"Processed app {current_rank}: {result['title']}\")\n",
    "                    \n",
    "                    except Exception as e:\n",
    "                        print(f\"Error processing app {current_rank}: {str(e)}\")\n",
    "                \n",
    "                current_rank += 1\n",
    "            \n",
    "            page += 1\n",
    "            time.sleep(2)  # Add a delay to avoid rate limiting\n",
    "        \n",
    "        except Exception as e:\n",
    "            print(f\"Error fetching batch: {str(e)}\")\n",
    "            time.sleep(30)  # Wait longer if there's an error\n",
    "    \n",
    "    return apps\n",
    "\n",
    "def save_to_csv(apps, filename):\n",
    "    with open(filename, 'w', newline='', encoding='utf-8') as csvfile:\n",
    "        fieldnames = ['rank', 'name', 'developer', 'data_safety']\n",
    "        writer = csv.DictWriter(csvfile, fieldnames=fieldnames)\n",
    "        \n",
    "        writer.writeheader()\n",
    "        for app in apps:\n",
    "            writer.writerow(app)\n",
    "\n",
    "if __name__ == \"__main__\":\n",
    "    start_rank = 200\n",
    "    end_rank = 500\n",
    "    \n",
    "    print(f\"Fetching game apps ranked {start_rank}-{end_rank}...\")\n",
    "    game_apps = fetch_game_apps(start_rank, end_rank)\n",
    "    \n",
    "    output_file = f\"game_apps_{start_rank}_{end_rank}.csv\"\n",
    "    save_to_csv(game_apps, output_file)\n",
    "    print(f\"Data saved to {output_file}\")"
   ]
  },
  {
   "cell_type": "code",
   "execution_count": null,
   "metadata": {},
   "outputs": [],
   "source": []
  }
 ],
 "metadata": {
  "kernelspec": {
   "display_name": "base",
   "language": "python",
   "name": "python3"
  },
  "language_info": {
   "codemirror_mode": {
    "name": "ipython",
    "version": 3
   },
   "file_extension": ".py",
   "mimetype": "text/x-python",
   "name": "python",
   "nbconvert_exporter": "python",
   "pygments_lexer": "ipython3",
   "version": "3.12.2"
  }
 },
 "nbformat": 4,
 "nbformat_minor": 2
}
